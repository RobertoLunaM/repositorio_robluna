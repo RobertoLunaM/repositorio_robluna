{
 "cells": [
  {
   "cell_type": "code",
   "execution_count": 9,
   "metadata": {},
   "outputs": [
    {
     "name": "stdout",
     "output_type": "stream",
     "text": [
      "Tierra\n",
      "Jupiter\n",
      "Saturno\n",
      "¡Tus planetas favoritos!\n"
     ]
    }
   ],
   "source": [
    "new_planet = ''\n",
    "planets = []\n",
    "\n",
    "while new_planet.lower() != 'listo' :\n",
    "    if new_planet :\n",
    "        planets.append(new_planet)\n",
    "    new_planet = input(\"Escribe el nombre de tus planetas favoritos, o listo cuando hayas terminado\")\n",
    "\n",
    "from time import sleep\n",
    "for planet in planets :\n",
    "    sleep(0.5)\n",
    "    print(planet)\n",
    "print(\"¡Tus planetas favoritos!\")"
   ]
  }
 ],
 "metadata": {
  "interpreter": {
   "hash": "a204b2003679c274f01fa7553a32bde8a2b5cf33d4a141aad7c99e27091b8275"
  },
  "kernelspec": {
   "display_name": "Python 3.10.2 64-bit",
   "language": "python",
   "name": "python3"
  },
  "language_info": {
   "codemirror_mode": {
    "name": "ipython",
    "version": 3
   },
   "file_extension": ".py",
   "mimetype": "text/x-python",
   "name": "python",
   "nbconvert_exporter": "python",
   "pygments_lexer": "ipython3",
   "version": "3.10.2"
  },
  "orig_nbformat": 4
 },
 "nbformat": 4,
 "nbformat_minor": 2
}
