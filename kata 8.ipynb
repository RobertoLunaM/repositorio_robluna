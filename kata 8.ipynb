{
 "cells": [
  {
   "cell_type": "code",
   "execution_count": 29,
   "metadata": {},
   "outputs": [
    {
     "name": "stdout",
     "output_type": "stream",
     "text": [
      "Mars has: 2 moons\n",
      "Mars has: 2 moons\n",
      "Mars polar circumference is: 6752\n"
     ]
    }
   ],
   "source": [
    "planet = {\n",
    "    'name' : 'Mars',\n",
    "    'moons' : 2\n",
    "}\n",
    "\n",
    "print(planet.get('name'), 'has:', planet.get('moons'), 'moons')\n",
    "print(f\"{planet['name']} has: {planet['moons']} moons\")\n",
    "\n",
    "planet['circunferencia (km)'] = {\n",
    "    'polar' : 6752 ,\n",
    "    'equatorial' : 6792\n",
    "}\n",
    "\n",
    "print(f\"{planet['name']} polar circumference is: {planet['circunferencia (km)']['polar']}\")"
   ]
  },
  {
   "cell_type": "code",
   "execution_count": 39,
   "metadata": {},
   "outputs": [
    {
     "name": "stdout",
     "output_type": "stream",
     "text": [
      "12\n",
      "Average moons per planet: 17.833333333333332\n"
     ]
    }
   ],
   "source": [
    "planet_moons = {\n",
    "    'mercury': 0,\n",
    "    'venus': 0,\n",
    "    'earth': 1,\n",
    "    'mars': 2,\n",
    "    'jupiter': 79,\n",
    "    'saturn': 82,\n",
    "    'uranus': 27,\n",
    "    'neptune': 14,\n",
    "    'pluto': 5,\n",
    "    'haumea': 2,\n",
    "    'makemake': 1,\n",
    "    'eris': 1\n",
    "}\n",
    "\n",
    "moons = planet_moons.values()\n",
    "planets = len(planet_moons.keys())\n",
    "print(planets)\n",
    "\n",
    "total_moons = 0\n",
    "for moon in moons:\n",
    "    total_moons = total_moons + moon\n",
    "\n",
    "average = total_moons / planets\n",
    "\n",
    "print('Average moons per planet:', (average))"
   ]
  }
 ],
 "metadata": {
  "interpreter": {
   "hash": "a204b2003679c274f01fa7553a32bde8a2b5cf33d4a141aad7c99e27091b8275"
  },
  "kernelspec": {
   "display_name": "Python 3.10.2 64-bit",
   "language": "python",
   "name": "python3"
  },
  "language_info": {
   "codemirror_mode": {
    "name": "ipython",
    "version": 3
   },
   "file_extension": ".py",
   "mimetype": "text/x-python",
   "name": "python",
   "nbconvert_exporter": "python",
   "pygments_lexer": "ipython3",
   "version": "3.10.2"
  },
  "orig_nbformat": 4
 },
 "nbformat": 4,
 "nbformat_minor": 2
}
