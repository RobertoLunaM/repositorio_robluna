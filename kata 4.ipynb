{
 "cells": [
  {
   "cell_type": "code",
   "execution_count": 20,
   "metadata": {},
   "outputs": [
    {
     "name": "stdout",
     "output_type": "stream",
     "text": [
      "On average, the Moon moves 4cm away from the Earth every year\n",
      "The highest daylight temperature of the Moon is 127 Celsius.\n"
     ]
    }
   ],
   "source": [
    "# Solucion ejercicio 1\n",
    "\n",
    "text = \"\"\"Interesting facts about the Moon. The Moon is Earth's only satellite. There are several interesting facts about the Moon and how it affects life here on Earth. On average, the Moon moves 4cm away from the Earth every year. This yearly drift is not significant enough to cause immediate effects on Earth. The highest daylight temperature of the Moon is 127 C.\"\"\"\n",
    "text.split('. ')\n",
    "text = text.split('. ')\n",
    "key_words = [\"average\", \"temperature\", \"distance\"]\n",
    "for sentence in text:\n",
    "    for key_word in key_words:\n",
    "        if key_word in sentence:\n",
    "            print(sentence.replace('C', 'Celsius'))"
   ]
  },
  {
   "cell_type": "code",
   "execution_count": 76,
   "metadata": {},
   "outputs": [
    {
     "name": "stdout",
     "output_type": "stream",
     "text": [
      "Gravity on the Moon('Planet name: Earth', 'Gravity on Moon:1.6199999999999999 m/s2')\n"
     ]
    }
   ],
   "source": [
    "# Intento fallido #1\n",
    "\n",
    "name = \"Moon\"\n",
    "gravity = (0.00162 * 1000)\n",
    "planet = \"Earth\"\n",
    "heading = \"Gravity on the \" + str(name)\n",
    "\n",
    "multiline = \"Planet name: \" + str(planet), \"Gravity on \" + str(name) + \":\" + str(gravity) + str(' m/s2')\n",
    "\n",
    "print(str(heading) + str(multiline))"
   ]
  },
  {
   "cell_type": "code",
   "execution_count": 89,
   "metadata": {},
   "outputs": [
    {
     "name": "stdout",
     "output_type": "stream",
     "text": [
      "Gravity on satelites around the Solar System \"Planet name: Jupiter Gravity on Ganimedes 1619.9999999999998 m/s2\"\n"
     ]
    }
   ],
   "source": [
    "# Intento fallido #2\n",
    "\n",
    "name = \"Ganimedes\"\n",
    "gravitiy = 0.00162\n",
    "planet = \"Jupiter\"\n",
    "subject = \"Gravity on satelites around the Solar System\"\n",
    "\n",
    "print(f'{subject} \"Planet name: {planet} Gravity on {name} {gravity * 1000} m/s2\"')"
   ]
  },
  {
   "cell_type": "code",
   "execution_count": 88,
   "metadata": {},
   "outputs": [
    {
     "name": "stdout",
     "output_type": "stream",
     "text": [
      "\n",
      "Datos de Gravedad sobre: Ganímedes\n",
      "--------------------------------------------------------------------------------\n",
      "Nombre del planeta: Mercurio\n",
      "Gravedad en Ganímedes: 1.96 m/s2\n",
      "\n"
     ]
    }
   ],
   "source": [
    "# Solución ejercicio #2\n",
    "\n",
    "planeta = 'Mercurio'\n",
    "gravedad = 0.00196\n",
    "nombre = 'Ganímedes'\n",
    "titulo = f'Datos de gravedad sobre {nombre}'\n",
    "\n",
    "hechos = f\"\"\"{'-' * 80}\n",
    "Nombre del planeta: {planeta}\n",
    "Gravedad en {nombre}: {gravedad * 1000} m/s2\"\"\"\n",
    "\n",
    "template = f\"\"\"{titulo.title()}\n",
    "{hechos}\"\"\"\n",
    "\n",
    "new_template = \"\"\"\n",
    "Datos de Gravedad sobre: {nombre}\n",
    "--------------------------------------------------------------------------------\n",
    "Nombre del planeta: {planeta}\n",
    "Gravedad en {nombre}: {gravedad} m/s2\n",
    "\"\"\"\n",
    "\n",
    "print(new_template.format(nombre=nombre, planeta=planeta, gravedad=gravedad*1000))"
   ]
  }
 ],
 "metadata": {
  "interpreter": {
   "hash": "a204b2003679c274f01fa7553a32bde8a2b5cf33d4a141aad7c99e27091b8275"
  },
  "kernelspec": {
   "display_name": "Python 3.10.2 64-bit",
   "language": "python",
   "name": "python3"
  },
  "language_info": {
   "codemirror_mode": {
    "name": "ipython",
    "version": 3
   },
   "file_extension": ".py",
   "mimetype": "text/x-python",
   "name": "python",
   "nbconvert_exporter": "python",
   "pygments_lexer": "ipython3",
   "version": "3.10.2"
  },
  "orig_nbformat": 4
 },
 "nbformat": 4,
 "nbformat_minor": 2
}
