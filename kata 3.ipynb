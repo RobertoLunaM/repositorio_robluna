{
 "cells": [
  {
   "cell_type": "code",
   "execution_count": 72,
   "metadata": {},
   "outputs": [
    {
     "name": "stdout",
     "output_type": "stream",
     "text": [
      "¡Advertencia! Se acerca un asteroide a la tierra.\n"
     ]
    }
   ],
   "source": [
    "# Mi solución problema 1\n",
    "velocidad = 25\n",
    "asteroide = 49\n",
    "if asteroide > velocidad :\n",
    "    print(\"¡Advertencia! Se acerca un asteroide a la tierra.\")\n",
    "else :\n",
    "    print(\"A salvo\")"
   ]
  },
  {
   "cell_type": "code",
   "execution_count": 68,
   "metadata": {},
   "outputs": [
    {
     "name": "stdout",
     "output_type": "stream",
     "text": [
      "Asteroide a tierra, no hay efecto luminoso en el cielo\n"
     ]
    }
   ],
   "source": [
    "# Mi solución problema 2\n",
    "velasteroide = 19\n",
    "velocidadmax = 20\n",
    "if velasteroide >= velocidadmax :\n",
    "    print(\"Asteroide a tierra, ¡Busca un efecto luminoso en el cielo!\")\n",
    "else :\n",
    "    print(\"Asteroide a tierra, no hay efecto luminoso en el cielo\")"
   ]
  },
  {
   "cell_type": "code",
   "execution_count": 83,
   "metadata": {},
   "outputs": [
    {
     "name": "stdout",
     "output_type": "stream",
     "text": [
      "¡Asteroide detectado, daño inminente!\n",
      "Causa efecto luminoso en el cielo\n"
     ]
    }
   ],
   "source": [
    "# Mi solución problema 3\n",
    "\n",
    "tamaño = 25\n",
    "tamañomax = 1000\n",
    "velasteroide = 25\n",
    "velocidadmax = 20\n",
    "if tamaño < tamañomax :\n",
    "    if tamaño >= 25 and tamaño < tamañomax :\n",
    "        print(\"¡Asteroide detectado, daño inminente!\")\n",
    "    else :\n",
    "        print(\"Asteroide detectado, sin consecuencias graves\")\n",
    "else :\n",
    "    print(\"Destrucción masiva\")\n",
    "if velasteroide >= 20 or velasteroide > velocidadmax :\n",
    "    print(\"Causa efecto luminoso en el cielo\")\n",
    "else :\n",
    "    print(\"No causa efecto luminoso en el cielo\")"
   ]
  },
  {
   "cell_type": "code",
   "execution_count": 71,
   "metadata": {},
   "outputs": [
    {
     "name": "stdout",
     "output_type": "stream",
     "text": [
      "Sigue con tu día\n"
     ]
    }
   ],
   "source": [
    "# Solución a problema 1\n",
    "\n",
    "asteroide = 20\n",
    "if asteroide > 25 :\n",
    "    print('¡Alerta! ¡Un asteroide se acerca a velocidades peligrosas!')\n",
    "else :\n",
    "    print('Sigue con tu día')"
   ]
  },
  {
   "cell_type": "code",
   "execution_count": 87,
   "metadata": {},
   "outputs": [
    {
     "name": "stdout",
     "output_type": "stream",
     "text": [
      "¡Look up! ¡Hay una luz mágica en el cielo!\n"
     ]
    }
   ],
   "source": [
    "# Solución a problema 2\n",
    "\n",
    "asteroide = 20\n",
    "if asteroide < 20 :\n",
    "    print(\"¡Look up! ¡Hay una luz mágica en el cielo!\")\n",
    "elif asteroide == 20 :\n",
    "    print(\"¡Look up! ¡Hay una luz mágica en el cielo!\")\n",
    "else :\n",
    "    print(\"¡Nada que ver aquí!\")\n"
   ]
  },
  {
   "cell_type": "code",
   "execution_count": 90,
   "metadata": {},
   "outputs": [
    {
     "name": "stdout",
     "output_type": "stream",
     "text": [
      "¡Look up! ¡Hay una luz mágica en el cielo!\n"
     ]
    }
   ],
   "source": [
    "# Solución a problema 3\n",
    "\n",
    "velocidad_asteroide = 25\n",
    "tamano_asteroide = 40\n",
    "if velocidad_asteroide > 25 and tamano_asteroide > 25 :\n",
    "    print(\"¡Alerta, un asteroide muy peligroso viene hacia la Tierra!\")\n",
    "elif velocidad_asteroide >= 20 :\n",
    "    print(\"¡Look up! ¡Hay una luz mágica en el cielo!\")\n",
    "elif tamano_asteroide < 25 :\n",
    "    print(\"Nada que ver aquí\")\n",
    "else:\n",
    "    print(\"Nada que ver aquí\")"
   ]
  }
 ],
 "metadata": {
  "interpreter": {
   "hash": "a204b2003679c274f01fa7553a32bde8a2b5cf33d4a141aad7c99e27091b8275"
  },
  "kernelspec": {
   "display_name": "Python 3.10.2 64-bit",
   "language": "python",
   "name": "python3"
  },
  "language_info": {
   "codemirror_mode": {
    "name": "ipython",
    "version": 3
   },
   "file_extension": ".py",
   "mimetype": "text/x-python",
   "name": "python",
   "nbconvert_exporter": "python",
   "pygments_lexer": "ipython3",
   "version": "3.10.2"
  },
  "orig_nbformat": 4
 },
 "nbformat": 4,
 "nbformat_minor": 2
}
