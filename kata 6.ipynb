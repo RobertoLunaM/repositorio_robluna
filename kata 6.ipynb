{
 "cells": [
  {
   "cell_type": "code",
   "execution_count": 48,
   "metadata": {},
   "outputs": [
    {
     "name": "stdout",
     "output_type": "stream",
     "text": [
      "Existen 9 planetas en el Sistema Solar\n",
      "El último planeta del Sistema solar es Pluton\n"
     ]
    }
   ],
   "source": [
    "# Mi solución\n",
    "\n",
    "planets = ['Mercurio', 'Venus', 'Tierra', 'Marte', 'Jupiter', 'Saturno', 'Urano', 'Neptuno']\n",
    "planets.append('Pluton')\n",
    "number_of_planets = len(planets)\n",
    "print(\"Existen\",number_of_planets,\"planetas en el Sistema Solar\" )\n",
    "print(\"El último planeta del Sistema solar es\", planets[8])"
   ]
  },
  {
   "cell_type": "code",
   "execution_count": 47,
   "metadata": {},
   "outputs": [
    {
     "name": "stdout",
     "output_type": "stream",
     "text": [
      "Planetas más cercanos al sol que Saturno :\n",
      "['Mercurio', 'Venus', 'Tierra', 'Marte', 'Jupiter']\n"
     ]
    }
   ],
   "source": [
    "planets = ['Mercurio', 'Venus', 'Tierra', 'Marte', 'Jupiter', 'Saturno', 'Urano', 'Neptuno']\n",
    "nombre_planeta = input(\"Introduce el nombre de un planeta, escribiendo la primera letra con mayúscula\")\n",
    "planets_index = planets.index(nombre_planeta)\n",
    "print(\"Planetas más cercanos al sol que\", nombre_planeta,\":\")\n",
    "print(planets[0:planets_index])"
   ]
  },
  {
   "cell_type": "code",
   "execution_count": 46,
   "metadata": {},
   "outputs": [
    {
     "name": "stdout",
     "output_type": "stream",
     "text": [
      "Planetas más lejanos al sol que Jupiter :\n",
      "['Saturno', 'Urano', 'Neptuno']\n"
     ]
    }
   ],
   "source": [
    "planets = ['Mercurio', 'Venus', 'Tierra', 'Marte', 'Jupiter', 'Saturno', 'Urano', 'Neptuno']\n",
    "nombre_planeta = input(\"Introduce el nombre de un planeta, escribiendo la primera letra con mayúscula\")\n",
    "planets_index = planets.index(nombre_planeta)\n",
    "print(\"Planetas más lejanos al sol que\", nombre_planeta,\":\")\n",
    "print(planets[planets_index + 1:])"
   ]
  }
 ],
 "metadata": {
  "interpreter": {
   "hash": "a204b2003679c274f01fa7553a32bde8a2b5cf33d4a141aad7c99e27091b8275"
  },
  "kernelspec": {
   "display_name": "Python 3.10.2 64-bit",
   "language": "python",
   "name": "python3"
  },
  "language_info": {
   "codemirror_mode": {
    "name": "ipython",
    "version": 3
   },
   "file_extension": ".py",
   "mimetype": "text/x-python",
   "name": "python",
   "nbconvert_exporter": "python",
   "pygments_lexer": "ipython3",
   "version": "3.10.2"
  },
  "orig_nbformat": 4
 },
 "nbformat": 4,
 "nbformat_minor": 2
}
