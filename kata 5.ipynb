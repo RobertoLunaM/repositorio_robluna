{
 "cells": [
  {
   "cell_type": "code",
   "execution_count": 36,
   "metadata": {},
   "outputs": [
    {
     "name": "stdout",
     "output_type": "stream",
     "text": [
      "628949330\n",
      "390577534\n"
     ]
    }
   ],
   "source": [
    "tierra = 149597870\n",
    "jupiter = 778547200\n",
    "\n",
    "difference = (jupiter - tierra)\n",
    "product = (difference * 0.621)\n",
    "\n",
    "print(difference)\n",
    "print(round(product))"
   ]
  },
  {
   "cell_type": "code",
   "execution_count": 54,
   "metadata": {},
   "outputs": [
    {
     "name": "stdout",
     "output_type": "stream",
     "text": [
      "4267200000\n",
      "2649931200.0\n"
     ]
    }
   ],
   "source": [
    "Mercurio = 57900000\n",
    "Venus =\t108200000\n",
    "Tierra = 149600000\n",
    "Marte = 227900000\n",
    "Júpiter = 778600000\n",
    "Saturno = 1433500000\n",
    "Urano = 2872500000\n",
    "Neptuno = 4495100000\n",
    "\n",
    "planeta1 = input('Escribe la distancia del sol al primer planeta')\n",
    "planeta2 = input('Escribe la distancia del sol al segundo planeta')\n",
    "\n",
    "planeta1 = int(planeta1)\n",
    "planeta2 = int(planeta2)\n",
    "\n",
    "distanciakm = planeta1 - planeta2\n",
    "print(abs(distanciakm))\n",
    "\n",
    "distanciami = distanciakm * 0.621\n",
    "print(abs(distanciami))\n"
   ]
  }
 ],
 "metadata": {
  "interpreter": {
   "hash": "a204b2003679c274f01fa7553a32bde8a2b5cf33d4a141aad7c99e27091b8275"
  },
  "kernelspec": {
   "display_name": "Python 3.10.2 64-bit",
   "language": "python",
   "name": "python3"
  },
  "language_info": {
   "codemirror_mode": {
    "name": "ipython",
    "version": 3
   },
   "file_extension": ".py",
   "mimetype": "text/x-python",
   "name": "python",
   "nbconvert_exporter": "python",
   "pygments_lexer": "ipython3",
   "version": "3.10.2"
  },
  "orig_nbformat": 4
 },
 "nbformat": 4,
 "nbformat_minor": 2
}
