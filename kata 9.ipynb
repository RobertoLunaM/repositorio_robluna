{
 "cells": [
  {
   "cell_type": "code",
   "execution_count": 17,
   "metadata": {},
   "outputs": [
    {
     "name": "stdout",
     "output_type": "stream",
     "text": [
      "Reporte de Combustible:\n",
      " Tanque 1: 50%\n",
      " Tanque 2: 80%\n",
      " Tanque 3: 10%\n",
      " Total promedio: 47%\n"
     ]
    }
   ],
   "source": [
    "def reporte_combustible(tanque1, tanque2, tanque3):\n",
    "    return f\"\"\"Reporte de Combustible:\n",
    " Tanque 1: {tanque1}%\n",
    " Tanque 2: {tanque2}%\n",
    " Tanque 3: {tanque3}%\n",
    " Total promedio: {promedio({tanque1,tanque2,tanque3})}%\"\"\"\n",
    "\n",
    "def promedio(valores):\n",
    "    total = sum(valores)\n",
    "    items = len(valores)\n",
    "    return round(total/items)\n",
    "\n",
    "print(reporte_combustible(50,80,10))\n"
   ]
  },
  {
   "cell_type": "code",
   "execution_count": 58,
   "metadata": {},
   "outputs": [
    {
     "name": "stdout",
     "output_type": "stream",
     "text": [
      "Reporte de Misión 'A la Luna':\n",
      "Viaje a: Luna\n",
      "Tiempo total de viaje: 108 minutos\n",
      "Tanque Externo: 65000 litros\n",
      "Tanque Interno: 30000 litros\n",
      "Combustible disponible: 95000 litros\n"
     ]
    }
   ],
   "source": [
    "def reporte_mision(destino, *minutos, **combustible) :\n",
    "    reporte_mision = f\"\"\"Reporte de Misión 'A la Luna':\n",
    "Viaje a: {destino}\n",
    "Tiempo total de viaje: {sum(minutos)} minutos\n",
    "\"\"\"\n",
    "    for tanque, lts in combustible.items() :\n",
    "        reporte_mision += f\"Tanque {tanque}: {lts} litros\\n\"\n",
    "    reporte_mision += f\"Combustible disponible: {sum(combustible.values())} litros\"\n",
    "\n",
    "    return reporte_mision\n",
    "\n",
    "print(reporte_mision('Luna',20,20,68,Externo=65000,Interno=30000))"
   ]
  }
 ],
 "metadata": {
  "interpreter": {
   "hash": "a204b2003679c274f01fa7553a32bde8a2b5cf33d4a141aad7c99e27091b8275"
  },
  "kernelspec": {
   "display_name": "Python 3.10.2 64-bit",
   "language": "python",
   "name": "python3"
  },
  "language_info": {
   "codemirror_mode": {
    "name": "ipython",
    "version": 3
   },
   "file_extension": ".py",
   "mimetype": "text/x-python",
   "name": "python",
   "nbconvert_exporter": "python",
   "pygments_lexer": "ipython3",
   "version": "3.10.2"
  },
  "orig_nbformat": 4
 },
 "nbformat": 4,
 "nbformat_minor": 2
}
